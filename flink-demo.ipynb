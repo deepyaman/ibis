{
 "cells": [
  {
   "cell_type": "markdown",
   "metadata": {},
   "source": [
    "## Configure Kafka source connector"
   ]
  },
  {
   "cell_type": "code",
   "execution_count": null,
   "metadata": {},
   "outputs": [],
   "source": [
    "# Kafka connector is not part of the binary distribution, so we need to download and link it for cluster execution explicitly\n",
    "!wget https://repo.maven.apache.org/maven2/org/apache/flink/flink-sql-connector-kafka/1.17.1/flink-sql-connector-kafka-1.17.1.jar"
   ]
  },
  {
   "cell_type": "markdown",
   "metadata": {},
   "source": [
    "Example record from upstream Kafka source:\n",
    "```json\n",
    "{\n",
    "    \"createTime\": \"2023-09-20 22:19:02\", \n",
    "    \"orderId\": 1695248388, \n",
    "    \"payAmount\": 88694.71922270155, \n",
    "    \"payPlatform\": 0, \n",
    "    \"provinceId\": 6,\n",
    "}\n",
    "```"
   ]
  },
  {
   "cell_type": "code",
   "execution_count": null,
   "metadata": {},
   "outputs": [],
   "source": [
    "import ibis\n",
    "import ibis.expr.schema as sch\n",
    "import ibis.expr.datatypes as dt\n",
    "from pyflink.table import EnvironmentSettings, TableEnvironment\n",
    "\n",
    "source_schema = sch.Schema(\n",
    "    {\n",
    "        \"createTime\": dt.timestamp(scale=3),\n",
    "        \"orderId\": dt.int64,\n",
    "        \"payAmount\": dt.float64,\n",
    "        \"payPlatform\": dt.int32,\n",
    "        \"provinceId\": dt.int32\n",
    "    }\n",
    ")\n",
    "\n",
    "env_settings = EnvironmentSettings.in_streaming_mode()\n",
    "table_env = TableEnvironment.create(env_settings)\n",
    "connection = ibis.flink.connect(table_env)\n",
    "\n",
    "# add the JAR downloaded above\n",
    "connection._exec_sql(\"ADD JAR 'flink-sql-connector-kafka-1.17.1.jar'\")\n",
    "\n",
    "source_configs = {\n",
    "    \"connector\": \"kafka\",\n",
    "    \"topic\": \"payment_msg\",\n",
    "    \"properties.bootstrap.servers\": \"localhost:9092\",\n",
    "    \"properties.group.id\": \"test_3\",\n",
    "    \"scan.startup.mode\": \"earliest-offset\",\n",
    "    \"format\": \"json\",\n",
    "}\n",
    "\n",
    "connection.create_table(\n",
    "    \"payment_msg\",\n",
    "    schema=source_schema,\n",
    "    tbl_properties=source_configs,\n",
    "    watermark=ibis.watermark(\n",
    "            time_col=\"createTime\", allowed_delay=ibis.interval(seconds=15)\n",
    "        ),\n",
    ")"
   ]
  },
  {
   "cell_type": "markdown",
   "metadata": {},
   "source": [
    "## Configure sink connectors"
   ]
  },
  {
   "cell_type": "code",
   "execution_count": null,
   "metadata": {},
   "outputs": [],
   "source": [
    "sink_schema = sch.Schema(\n",
    "    {\n",
    "        \"createTime\": dt.timestamp(scale=3),\n",
    "        \"orderId\": dt.int64,\n",
    "        \"payAmount\": dt.float64,\n",
    "        \"payPlatform\": dt.int32,\n",
    "        \"provinceId\": dt.int32\n",
    "    }\n",
    ")\n",
    "\n",
    "print_sink_configs = {\n",
    "    \"connector\": \"print\"\n",
    "}\n",
    "\n",
    "connection.create_table(\n",
    "    \"print_sink\",\n",
    "    schema=sink_schema,\n",
    "    tbl_properties=print_sink_configs\n",
    ")"
   ]
  },
  {
   "cell_type": "code",
   "execution_count": null,
   "metadata": {},
   "outputs": [],
   "source": [
    "kafka_sink_configs = {\n",
    "    \"connector\": \"kafka\",\n",
    "    \"topic\": \"sink\",\n",
    "    \"properties.bootstrap.servers\": \"localhost:9092\",\n",
    "    \"format\": \"json\",\n",
    "}\n",
    "\n",
    "connection.create_table(\n",
    "    \"kafka_sink\",\n",
    "    schema=sink_schema,\n",
    "    tbl_properties=kafka_sink_configs\n",
    ")"
   ]
  },
  {
   "cell_type": "code",
   "execution_count": null,
   "metadata": {},
   "outputs": [],
   "source": [
    "connection._exec_sql(\n",
    "    \"INSERT INTO kafka_sink SELECT * FROM payment_msg\"\n",
    ")"
   ]
  },
  {
   "cell_type": "code",
   "execution_count": null,
   "metadata": {},
   "outputs": [],
   "source": [
    "connection._exec_sql(\n",
    "    \"INSERT INTO print_sink SELECT * FROM payment_msg LIMIT 10\"\n",
    ").wait()"
   ]
  }
 ],
 "metadata": {
  "kernelspec": {
   "display_name": "ibis",
   "language": "python",
   "name": "python3"
  },
  "language_info": {
   "codemirror_mode": {
    "name": "ipython",
    "version": 3
   },
   "file_extension": ".py",
   "mimetype": "text/x-python",
   "name": "python",
   "nbconvert_exporter": "python",
   "pygments_lexer": "ipython3",
   "version": "3.10.6"
  },
  "orig_nbformat": 4
 },
 "nbformat": 4,
 "nbformat_minor": 2
}
